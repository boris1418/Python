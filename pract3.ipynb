{
 "cells": [
  {
   "cell_type": "markdown",
   "metadata": {},
   "source": [
    "# Практическое занятие №3\n",
    "\n",
    "П.Н. Советов, РТУ МИРЭА"
   ]
  },
  {
   "cell_type": "code",
   "execution_count": 46,
   "metadata": {},
   "outputs": [],
   "source": [
    "import matplotlib as plt"
   ]
  },
  {
   "cell_type": "markdown",
   "metadata": {},
   "source": [
    "## Часть 1"
   ]
  },
  {
   "cell_type": "markdown",
   "metadata": {},
   "source": [
    "Привести примеры кода, которые соответствуют следующим нарушениям PEP 8:\n",
    "\n",
    "1. whitespace before '('.\n",
    "1. missing whitespace around operator.\n",
    "1. missing whitespace after ','.\n",
    "1. unexpected spaces around keyword / parameter equals.\n",
    "1. expected 2 blank lines, found 1.\n",
    "1. multiple statements on one line (colon).\n",
    "1. multiple statements on one line (semicolon).\n",
    "1. comparison to None should be 'if cond is None:'.\n",
    "1. comparison to True should be 'if cond is True:' or 'if cond:'.\n",
    "\n",
    "Для быстрой проверки используйте сайт [pep8online.com](http://pep8online.com)."
   ]
  },
  {
   "cell_type": "markdown",
   "metadata": {},
   "source": [
    "### Пример 1"
   ]
  },
  {
   "cell_type": "code",
   "execution_count": 1,
   "metadata": {},
   "outputs": [],
   "source": [
    "def foo (x):\n",
    "    return x * x"
   ]
  },
  {
   "cell_type": "markdown",
   "metadata": {},
   "source": [
    "### Пример 2"
   ]
  },
  {
   "cell_type": "code",
   "execution_count": 48,
   "metadata": {},
   "outputs": [],
   "source": [
    "def foo(x):\n",
    "    return x *x"
   ]
  },
  {
   "cell_type": "markdown",
   "metadata": {},
   "source": [
    "### Пример 3"
   ]
  },
  {
   "cell_type": "code",
   "execution_count": 49,
   "metadata": {},
   "outputs": [],
   "source": [
    "def foo(x,y):\n",
    "    return x * y"
   ]
  },
  {
   "cell_type": "markdown",
   "metadata": {},
   "source": [
    "### Пример 4"
   ]
  },
  {
   "cell_type": "code",
   "execution_count": 50,
   "metadata": {},
   "outputs": [
    {
     "data": {
      "text/plain": [
       "20"
      ]
     },
     "execution_count": 50,
     "metadata": {},
     "output_type": "execute_result"
    }
   ],
   "source": [
    "def foo(x, y):\n",
    "    return x * y\n",
    "foo(x = 4, y = 5)"
   ]
  },
  {
   "cell_type": "markdown",
   "metadata": {},
   "source": [
    "### Пример 5"
   ]
  },
  {
   "cell_type": "code",
   "execution_count": 51,
   "metadata": {},
   "outputs": [],
   "source": [
    "def foo2(x):\n",
    "    return x * x\n",
    "\n",
    "def foo3(x):\n",
    "    return x * x * x\n"
   ]
  },
  {
   "cell_type": "markdown",
   "metadata": {},
   "source": [
    "### Пример 6"
   ]
  },
  {
   "cell_type": "code",
   "execution_count": 52,
   "metadata": {},
   "outputs": [],
   "source": [
    "x = 4\n",
    "if x == 4: x = 5"
   ]
  },
  {
   "cell_type": "markdown",
   "metadata": {},
   "source": [
    "### Пример 7"
   ]
  },
  {
   "cell_type": "code",
   "execution_count": 53,
   "metadata": {},
   "outputs": [],
   "source": [
    "x = 5; y = 6"
   ]
  },
  {
   "cell_type": "markdown",
   "metadata": {},
   "source": [
    "### Пример 8"
   ]
  },
  {
   "cell_type": "code",
   "execution_count": 54,
   "metadata": {},
   "outputs": [],
   "source": [
    "x = 6\n",
    "if x == None:\n",
    "    x = 7"
   ]
  },
  {
   "cell_type": "markdown",
   "metadata": {},
   "source": [
    "### Пример 9"
   ]
  },
  {
   "cell_type": "code",
   "execution_count": 55,
   "metadata": {},
   "outputs": [],
   "source": [
    "x = False\n",
    "if x == True:\n",
    "    x = False"
   ]
  },
  {
   "cell_type": "markdown",
   "metadata": {},
   "source": [
    "Неконтролируемый импорт с помощью `*`, как известно, в Питоне не поощряется. Попробуйте сделать его контролируемым со стороны модуля. Чтобы использование звездочки приводило к импорту пользователю только определенного круга имен вашего модуля."
   ]
  },
  {
   "cell_type": "code",
   "execution_count": 2,
   "metadata": {},
   "outputs": [],
   "source": [
    "from math import sin, pi\n",
    "\n",
    "a = sin(pi / 2)"
   ]
  },
  {
   "cell_type": "markdown",
   "metadata": {},
   "source": [
    "Создать учебный пакет, состоящий из нескольких модулей и JSON-файла. Получить дистрибутив, готовый для установки с помощью pip. Проверить результат установки в виртуальном окружении."
   ]
  },
  {
   "cell_type": "markdown",
   "metadata": {},
   "source": [
    "Написать функцию, которая добавляет информацию о возникшем исключении (класс, сообщение, трассировка) в лог-файл. Функция не должна обрабатывать исключения. На вход функции, которую необходимо разработать, поступает ссылка на выполняемую пользовательскую функцию:\n",
    "\n",
    "```Python\n",
    "def run_with_log(func):\n",
    "    try:\n",
    "        func()\n",
    "    except Exception as e:\n",
    "        with open('errors.log', 'w') as f:\n",
    "            f.write(str(e) + '\\n')\n",
    "```"
   ]
  },
  {
   "cell_type": "markdown",
   "metadata": {},
   "source": [
    "Реализовать модель сегрегации Шеллинга в Matplotlib. На двумерной сетке находятся агенты двух групп. На каждой клетке может находиться не более 1 агента. Агент \"счастлив\", если, как минимум, заданный процент ближайших соседей относится к его группе. В противном случае агент переезжает на иное, свободное место.\n",
    "\n",
    "Ввести следующие параметры: размер популяции, размеры сетки, процентное соотношение агентов двух групп, пороговое значение \"толерантности\", количество шагов моделирования.\n",
    "\n",
    "1. Реализовать отображение агентов в виде квадратов двух цветов на целочисленной сетке.\n",
    "1. Случайно разместить агентов, учитывая запрет на совпадение координат.\n",
    "1. Реализовать функцию `distance` на основе метрики манхэттенского расстояния.\n",
    "1. Реализовать функцию `is_happy`.\n",
    "1. Изобразить график исходного расположения агентов и график расположения спустя N шагов моделирования.\n",
    "1. Изобразить график изменения состояния \"настроения\" агентов.\n",
    "1. (повышенной сложности) Реализовать анимацию шагов моделирования."
   ]
  },
  {
   "cell_type": "code",
   "execution_count": null,
   "metadata": {},
   "outputs": [],
   "source": []
  },
  {
   "cell_type": "markdown",
   "metadata": {},
   "source": [
    "## Часть 2"
   ]
  },
  {
   "cell_type": "markdown",
   "metadata": {},
   "source": [
    "В следующих задачах визуализация данных используется для нахождения ответов на простые вопросы. В каждом конкретном случае необходимо предложить предпочтительный метод визуализации в Matplotlib. Приветствуются идеи для обнаружения новых фактов из данных."
   ]
  },
  {
   "cell_type": "markdown",
   "metadata": {},
   "source": [
    "Проанализировать данные, полученные от почтового робота:"
   ]
  },
  {
   "cell_type": "code",
   "execution_count": 56,
   "metadata": {},
   "outputs": [],
   "source": [
    "import json\n",
    "import email.utils\n",
    "import numpy as np\n",
    "import scipy.stats as sps\n",
    "\n",
    "import matplotlib.pyplot as plt\n",
    "import matplotlib.cm as cm\n",
    "\n",
    "with open('pract3/table.json', encoding='utf8') as f:\n",
    "    table = json.loads(f.read()) # Таблица решений задач\n",
    "    \n",
    "with open('pract3/failed.json', encoding='utf8') as f:\n",
    "    failed = json.loads(f.read()) # Данные по ошибкам\n",
    "    \n",
    "with open('pract3/messages.json', encoding='utf8') as f:\n",
    "    messages = json.loads(f.read()) # Полученные сообщения\n"
   ]
  },
  {
   "cell_type": "markdown",
   "metadata": {},
   "source": [
    "### Вопрос 1"
   ]
  },
  {
   "cell_type": "code",
   "execution_count": 57,
   "metadata": {},
   "outputs": [
    {
     "data": {
      "image/png": "[encoded data removed]",
      "text/plain": [
       "<Figure size 720x288 with 1 Axes>"
      ]
     },
     "metadata": {
      "needs_background": "light"
     },
     "output_type": "display_data"
    }
   ],
   "source": [
    "new_messages = [(m['subj'].upper(), email.utils.parsedate(m['date'])) for m in messages]\n",
    "\n",
    "times = np.array([x[1][3] for x in new_messages]) # numpy массив с данными о времени отправок\n",
    "\n",
    "plt.figure(figsize=(10, 4)) # создали фигуру для графика и задали размер\n",
    "\n",
    "plt.hist(\n",
    "    times, # данные\n",
    "    bins=24, # количесво столбиков\n",
    "    density=False, # настройки оси y\n",
    "    alpha=0.7, # прозрачность\n",
    "    color='#ffc60d', # Цвет\n",
    "    label='Гистограмма активности' # Название в легенде\n",
    ")\n",
    "\n",
    "plt.legend()\n",
    "plt.grid(linestyle=':') # сетка, : - чтобы линии были не очень грубыми.\n",
    "plt.show() # отображает график"
   ]
  },
  {
   "cell_type": "markdown",
   "metadata": {},
   "source": [
    "После построения гистограммы можно сказать что пользователи найболее активны днем, когда вернулись из института. Либо поздно вечером, в связи с тем что дедлайны чаще всего к ночи."
   ]
  },
  {
   "cell_type": "markdown",
   "metadata": {},
   "source": [
    "### Вопрос 2"
   ]
  },
  {
   "cell_type": "code",
   "execution_count": 58,
   "metadata": {},
   "outputs": [
    {
     "data": {
      "image/png": "[encoded data removed]",
      "text/plain": [
       "<Figure size 720x288 with 1 Axes>"
      ]
     },
     "metadata": {
      "needs_background": "light"
     },
     "output_type": "display_data"
    }
   ],
   "source": [
    "\n",
    "def get_day(m):\n",
    "    data = m.split(' ')\n",
    "    return data[0][:len(data[0]) - 1]\n",
    "\n",
    "days = np.array([ get_day(m['date']) for m in messages]) # numpy массив с данными о днях недели отправок\n",
    "plt.figure(figsize=(10, 4)) # создали фигуру для графика и задали размер\n",
    "\n",
    "plt.hist(\n",
    "    days, # данные\n",
    "    bins=7, # количесво столбиков (7 дней недели)\n",
    "    density=False, # настройки оси y\n",
    "    alpha=0.7, # прозрачность\n",
    "    color='#ffc60d', # Цвет\n",
    "    label='Гистограмма активности' # Название в легенде\n",
    ")\n",
    "\n",
    "plt.legend()\n",
    "plt.grid(linestyle=':') # сетка, : - чтобы линии были не очень грубыми.\n",
    "plt.show() # отображает график"
   ]
  },
  {
   "cell_type": "markdown",
   "metadata": {},
   "source": [
    "Чаще всего решения отправляют в понедельник"
   ]
  },
  {
   "cell_type": "markdown",
   "metadata": {},
   "source": [
    "### Вопрос 3"
   ]
  },
  {
   "cell_type": "code",
   "execution_count": 62,
   "metadata": {
    "scrolled": true
   },
   "outputs": [
    {
     "data": {
      "image/png": "[encoded data removed]",
      "text/plain": [
       "<Figure size 1008x288 with 1 Axes>"
      ]
     },
     "metadata": {
      "needs_background": "light"
     },
     "output_type": "display_data"
    }
   ],
   "source": [
    "\n",
    "def get_group(m):\n",
    "    gr = m.split(' ')\n",
    "    return gr[0]\n",
    "\n",
    "groups = [get_group(m['subj']) for m in messages] # numpy массив с данными о днях недели отправок\n",
    "counts = {}\n",
    "\n",
    "for g in groups:\n",
    "    if g in counts:\n",
    "        counts[g] += 1\n",
    "    else:\n",
    "        counts[g] = 1\n",
    "\n",
    "plt.figure(figsize=(14, 4)) # создали фигуру для графика и задали размер\n",
    "\n",
    "items = [(x, y) for x, y in counts.items()]\n",
    "items.sort(key = lambda x: -x[1]) \n",
    "items = items[0:25] # топ 25\n",
    "\n",
    "plt.plot(\n",
    "    [group[0] for group in items], # Группа\n",
    "    [group[1] for group in items], # количество\n",
    "    alpha=0.7, # прозрачность\n",
    "    color='blue', # Цвет\n",
    "    label='Гистограмма активности' # Название в легенде\n",
    ")\n",
    "\n",
    "plt.legend()\n",
    "plt.grid(linestyle=':') # сетка, : - чтобы линии были не очень грубыми.\n",
    "plt.show() # отображает график"
   ]
  },
  {
   "cell_type": "markdown",
   "metadata": {},
   "source": [
    "Построили график для топ 25 групп. Чаще всего отправляла решения группа \"в7\""
   ]
  },
  {
   "cell_type": "markdown",
   "metadata": {},
   "source": [
    "С помощью графиков ответить на следующие вопросы:\n",
    "\n",
    "1. Как по времени суток распределяется активность студентов?\n",
    "1. Как по дням недели распределяется активность студентов?\n",
    "1. В каких группах было отправлено больше всего сообщений?\n",
    "1. В каких группах было получено больше всего правильных решений?\n",
    "1. Какие задачи оказались самыми легкими, самыми сложными?\n",
    "1. Какие распространенные ошибки совершали студенты?"
   ]
  },
  {
   "cell_type": "markdown",
   "metadata": {},
   "source": [
    "Проанализировать [базу данных](https://github.com/Newbilius/Old-Games_DOS_Game_Gauntlet/blob/master/GAMES.csv) старых компьютерных игр.\n",
    "\n",
    "С помощью графиков ответить на следующие вопросы:\n",
    "1. Какие годы были самыми популярными с точки зрения выхода игр?\n",
    "1. Какие жанры были популярны в различные периоды времени?"
   ]
  },
  {
   "cell_type": "markdown",
   "metadata": {},
   "source": [
    "Проверить с помощью собственных графиков результаты, полученные в [Python Developers Survey 2019 Results](https://www.jetbrains.com/lp/python-developers-survey-2019/). Исходные данные находятся [здесь](https://drive.google.com/drive/folders/1GW86M_QLFOA2KyeWeb8hzBj_RqQIXmAU)."
   ]
  },
  {
   "cell_type": "code",
   "execution_count": null,
   "metadata": {},
   "outputs": [],
   "source": []
  }
 ],
 "metadata": {
  "kernelspec": {
   "display_name": "Python 3",
   "language": "python",
   "name": "python3"
  },
  "language_info": {
   "codemirror_mode": {
    "name": "ipython",
    "version": 3
   },
   "file_extension": ".py",
   "mimetype": "text/x-python",
   "name": "python",
   "nbconvert_exporter": "python",
   "pygments_lexer": "ipython3",
   "version": "3.8.5"
  }
 },
 "nbformat": 4,
 "nbformat_minor": 4
}
